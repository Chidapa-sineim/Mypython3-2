{
 "cells": [
  {
   "cell_type": "code",
   "execution_count": 40,
   "metadata": {},
   "outputs": [
    {
     "name": "stdout",
     "output_type": "stream",
     "text": [
      "ชื่อพนักงาน :  cherry\n",
      "เงินเดือน :  2000\n",
      "ล่วงเวลา :  56\n",
      "ค่า ot :  8400\n",
      "เงินเดือนทั้งหมด :  10400\n"
     ]
    }
   ],
   "source": [
    "\n",
    "name = str(input(\"ชื่อ: \"))\n",
    "mon = int(input(\"เงินเดือน: \"))\n",
    "ot = int(input(\"ล่วงเวลา/ชม.: \"))\n",
    "\n",
    "print(\"ชื่อพนักงาน : \",name)\n",
    "print(\"เงินเดือน : \", mon)\n",
    "print(\"ล่วงเวลา : \", ot)\n",
    "\n",
    "def s(x, y):\n",
    "    z = x + (y*100)\n",
    "    return z\n",
    "\n",
    "def s1(x, y):\n",
    "    z = x + (y*150)\n",
    "    return z\n",
    "\n",
    "def allot(a):\n",
    "    if ot >=40:\n",
    "        b = a*150\n",
    "        print(\"ค่า ot : \", b)\n",
    "        return b\n",
    "    else:\n",
    "        c = a*100\n",
    "        print(\"ค่า ot : \", c)\n",
    "        return c\n",
    "\n",
    "def all():\n",
    "    if ot >=40:\n",
    "        print(\"เงินเดือนทั้งหมด : \",s1(mon, ot))\n",
    "    else:\n",
    "        print(\"เงินเดือนทั้งหมด : \",s(mon, ot))\n",
    "allot(ot)\n",
    "all()\n"
   ]
  }
 ],
 "metadata": {
  "kernelspec": {
   "display_name": "Python 3",
   "language": "python",
   "name": "python3"
  },
  "language_info": {
   "codemirror_mode": {
    "name": "ipython",
    "version": 3
   },
   "file_extension": ".py",
   "mimetype": "text/x-python",
   "name": "python",
   "nbconvert_exporter": "python",
   "pygments_lexer": "ipython3",
   "version": "3.12.4"
  }
 },
 "nbformat": 4,
 "nbformat_minor": 2
}
